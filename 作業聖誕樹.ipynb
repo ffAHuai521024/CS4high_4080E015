{
  "nbformat": 4,
  "nbformat_minor": 0,
  "metadata": {
    "colab": {
      "name": "Untitled0.ipynb",
      "version": "0.3.2",
      "provenance": [],
      "include_colab_link": true
    },
    "kernelspec": {
      "name": "python2",
      "display_name": "Python 2"
    }
  },
  "cells": [
    {
      "cell_type": "markdown",
      "metadata": {
        "id": "view-in-github",
        "colab_type": "text"
      },
      "source": [
        "<a href=\"https://colab.research.google.com/github/ffAHuai521024/CS4high_4080E015/blob/master/%E4%BD%9C%E6%A5%AD%E8%81%96%E8%AA%95%E6%A8%B9.ipynb\" target=\"_parent\"><img src=\"https://colab.research.google.com/assets/colab-badge.svg\" alt=\"Open In Colab\"/></a>"
      ]
    },
    {
      "cell_type": "code",
      "metadata": {
        "id": "AlVwiNcyw0V6",
        "colab_type": "code",
        "colab": {
          "base_uri": "https://localhost:8080/",
          "height": 255
        },
        "outputId": "ad2016e3-fa64-4855-ee99-720bccddbe39"
      },
      "source": [
        "print(\"        *\")\n",
        "print(\"       ***\")\n",
        "print(\"      *****\")\n",
        "print(\"     *******\")\n",
        "print(\"    *********\")\n",
        "print(\"       ***\")\n",
        "print(\"     *******\")\n",
        "print(\"    *********\")\n",
        "print(\"   ***********\")\n",
        "print(\"    *********\")\n",
        "print(\"  *************\")\n",
        "print(\" ***************\")\n",
        "print(\"       ***\")\n",
        "print(\"       ***\")\n",
        "\n",
        "\n"
      ],
      "execution_count": 6,
      "outputs": [
        {
          "output_type": "stream",
          "text": [
            "        *\n",
            "       ***\n",
            "      *****\n",
            "     *******\n",
            "    *********\n",
            "       ***\n",
            "     *******\n",
            "    *********\n",
            "   ***********\n",
            "    *********\n",
            "  *************\n",
            " ***************\n",
            "       ***\n",
            "       ***\n"
          ],
          "name": "stdout"
        }
      ]
    }
  ]
}